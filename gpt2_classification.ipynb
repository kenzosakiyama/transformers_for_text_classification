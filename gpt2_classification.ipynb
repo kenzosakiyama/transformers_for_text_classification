{
 "metadata": {
  "language_info": {
   "codemirror_mode": {
    "name": "ipython",
    "version": 3
   },
   "file_extension": ".py",
   "mimetype": "text/x-python",
   "name": "python",
   "nbconvert_exporter": "python",
   "pygments_lexer": "ipython3",
   "version": "3.6.9-final"
  },
  "orig_nbformat": 2,
  "kernelspec": {
   "name": "Python 3.6.9 64-bit ('bert': virtualenv)",
   "display_name": "Python 3.6.9 64-bit ('bert': virtualenv)",
   "metadata": {
    "interpreter": {
     "hash": "eff88277fb73975c12d1396ee5027a873de6a4cc7778f3072fe3a9960a29a15a"
    }
   }
  }
 },
 "nbformat": 4,
 "nbformat_minor": 2,
 "cells": [
  {
   "cell_type": "code",
   "execution_count": 1,
   "metadata": {},
   "outputs": [],
   "source": [
    "import numpy as np\n",
    "import pandas as pd\n",
    "import torch\n",
    "import torch.nn as nn\n",
    "import torch.nn.functional as F\n",
    "from torch.optim.lr_scheduler import OneCycleLR\n",
    "import tqdm.notebook as tqdm\n",
    "from torch.utils.data import DataLoader\n",
    "from transformers import GPT2TokenizerFast, GPT2Model\n",
    "from transformers import AdamW\n",
    "from utils.datasets import TextDataset\n",
    "from models.gpt2 import GPT2ForClassification"
   ]
  },
  {
   "cell_type": "code",
   "execution_count": 2,
   "metadata": {},
   "outputs": [],
   "source": [
    "MODEL = \"pierreguillou/gpt2-small-portuguese\""
   ]
  },
  {
   "source": [
    "# Loading tweet dataset"
   ],
   "cell_type": "markdown",
   "metadata": {}
  },
  {
   "cell_type": "code",
   "execution_count": 3,
   "metadata": {},
   "outputs": [],
   "source": [
    "train_df = pd.read_csv(\"/home/kenzo/datasets/cleaned_tweetsentbr/train.tsv\", sep=\"\\t\", names=[\"id\", \"label\", \"alfa\", \"text\"], index_col=0)\n",
    "test_df = pd.read_csv(\"/home/kenzo/datasets/cleaned_tweetsentbr/test.tsv\", sep=\"\\t\", names=[\"id\", \"label\", \"alfa\", \"text\"], index_col=0)"
   ]
  },
  {
   "cell_type": "code",
   "execution_count": 4,
   "metadata": {
    "tags": []
   },
   "outputs": [],
   "source": [
    "tokenizer = GPT2TokenizerFast.from_pretrained(MODEL)"
   ]
  },
  {
   "cell_type": "code",
   "execution_count": 5,
   "metadata": {},
   "outputs": [],
   "source": [
    "train_ds = TextDataset.from_df(train_df, tokenizer, max_seq_len=64)\n",
    "test_ds = TextDataset.from_df(test_df, tokenizer, max_seq_len=64)"
   ]
  },
  {
   "source": [
    "# Preparing model"
   ],
   "cell_type": "markdown",
   "metadata": {}
  },
  {
   "cell_type": "code",
   "execution_count": 6,
   "metadata": {},
   "outputs": [],
   "source": [
    "from sklearn.metrics import accuracy_score, precision_score, recall_score, f1_score\n",
    "from functools import partial\n",
    "\n",
    "metrics = {\n",
    "    \"accuracy\": accuracy_score,\n",
    "    \"precision\": partial(precision_score, average=\"macro\"),\n",
    "    \"recall\": partial(recall_score, average=\"macro\"),\n",
    "    \"f1\": partial(f1_score, average=\"macro\"),\n",
    "}"
   ]
  },
  {
   "cell_type": "code",
   "execution_count": 7,
   "metadata": {},
   "outputs": [],
   "source": [
    "gpu = torch.device(\"cuda:1\")"
   ]
  },
  {
   "cell_type": "code",
   "execution_count": 8,
   "metadata": {
    "tags": []
   },
   "outputs": [],
   "source": [
    "gpt_model = GPT2Model.from_pretrained(MODEL)"
   ]
  },
  {
   "cell_type": "code",
   "execution_count": 9,
   "metadata": {},
   "outputs": [],
   "source": [
    "model = GPT2ForClassification(gpt_model, 64, 3, metrics).cuda(gpu)"
   ]
  },
  {
   "cell_type": "code",
   "execution_count": 10,
   "metadata": {},
   "outputs": [],
   "source": [
    "train_dl = DataLoader(train_ds, batch_size=64, shuffle=True)\n",
    "test_dl = DataLoader(test_ds, batch_size=64, shuffle=True)"
   ]
  },
  {
   "cell_type": "code",
   "execution_count": 11,
   "metadata": {},
   "outputs": [],
   "source": [
    "batches = len(train_dl)\n",
    "epochs = 3\n",
    "optimizer = AdamW(model.parameters(), lr=1e-5) \n",
    "scheduler = OneCycleLR(optimizer, max_lr=1e-5, steps_per_epoch=batches, epochs=epochs)\n",
    "criterion = nn.CrossEntropyLoss()"
   ]
  },
  {
   "cell_type": "code",
   "execution_count": 12,
   "metadata": {
    "tags": []
   },
   "outputs": [
    {
     "output_type": "stream",
     "name": "stderr",
     "text": [
      "- Remaining batches: 100%|██████████| 154/154 [04:21<00:00,  1.70s/it]\n",
      "Epoch: 1\n",
      "- Remaining batches:   0%|          | 0/154 [00:00<?, ?it/s]\ttrain_loss: 1.0228747721616325 // test_loss: 0.8990437984466553// metrics: {'accuracy': 0.5735174654752234, 'precision': 0.5398938962755699, 'recall': 0.5288365584829621, 'f1': 0.5292728976278424}\n",
      "\n",
      "- Remaining batches: 100%|██████████| 154/154 [04:21<00:00,  1.70s/it]\n",
      "Epoch: 2\n",
      "- Remaining batches:   0%|          | 0/154 [00:00<?, ?it/s]\ttrain_loss: 0.826910300301267 // test_loss: 0.8286859928033291// metrics: {'accuracy': 0.6214459788789602, 'precision': 0.5919524792585519, 'recall': 0.5810038573422652, 'f1': 0.5781046059050848}\n",
      "\n",
      "- Remaining batches: 100%|██████████| 154/154 [04:21<00:00,  1.70s/it]\n",
      "Epoch: 3\n",
      "\ttrain_loss: 0.7604062886207135 // test_loss: 0.8199584407684131// metrics: {'accuracy': 0.6267262388302194, 'precision': 0.6002453969914275, 'recall': 0.5902444582887446, 'f1': 0.5895114958316555}\n",
      "\n"
     ]
    }
   ],
   "source": [
    "train, test = model.fit(epochs, train_dl, test_dl, criterion, optimizer, scheduler=scheduler, cuda=True, device=gpu)"
   ]
  },
  {
   "cell_type": "code",
   "execution_count": 13,
   "metadata": {},
   "outputs": [],
   "source": [
    "# torch.save(model.bert.state_dict(), \"data/checkpoints/bert_tweetsent_br.ckpt\")"
   ]
  },
  {
   "cell_type": "code",
   "execution_count": null,
   "metadata": {},
   "outputs": [],
   "source": []
  }
 ]
}