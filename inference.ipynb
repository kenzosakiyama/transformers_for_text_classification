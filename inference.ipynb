{
 "cells": [
  {
   "cell_type": "code",
   "execution_count": 1,
   "metadata": {},
   "outputs": [],
   "source": [
    "from transformers import BertForSequenceClassification, BertTokenizerFast\n",
    "from transformers_interpret import SequenceClassificationExplainer"
   ]
  },
  {
   "cell_type": "markdown",
   "metadata": {},
   "source": [
    "# Instanciando modelo"
   ]
  },
  {
   "cell_type": "code",
   "execution_count": 2,
   "metadata": {},
   "outputs": [],
   "source": [
    "MODEL_NAME = \"neuralmind/bert-base-portuguese-cased\"\n",
    "CHECKPOINT_PATH = \"../../data/VICTOR/checkpoints/checkpoint-149136\""
   ]
  },
  {
   "cell_type": "code",
   "execution_count": 3,
   "metadata": {},
   "outputs": [],
   "source": [
    "tokenizer = BertTokenizerFast.from_pretrained(MODEL_NAME)\n",
    "model = BertForSequenceClassification.from_pretrained(CHECKPOINT_PATH)"
   ]
  },
  {
   "cell_type": "markdown",
   "metadata": {},
   "source": [
    "# Carregando exemplos para predição"
   ]
  },
  {
   "cell_type": "code",
   "execution_count": 8,
   "metadata": {},
   "outputs": [],
   "source": [
    "import pandas as pd\n",
    "from sklearn.preprocessing import LabelEncoder"
   ]
  },
  {
   "cell_type": "code",
   "execution_count": 5,
   "metadata": {},
   "outputs": [],
   "source": [
    "TRAIN_PATH = \"/home/kenzosaki/mestrado/data/VICTOR/train_small.csv\"\n",
    "TEST_PATH = \"/home/kenzosaki/mestrado/data/VICTOR/test_small.csv\""
   ]
  },
  {
   "cell_type": "code",
   "execution_count": 6,
   "metadata": {},
   "outputs": [],
   "source": [
    "train_df = pd.read_csv(TRAIN_PATH, index_col=0)\n",
    "test_df = pd.read_csv(TEST_PATH, index_col=0)"
   ]
  },
  {
   "cell_type": "code",
   "execution_count": 9,
   "metadata": {},
   "outputs": [
    {
     "data": {
      "text/plain": [
       "LabelEncoder()"
      ]
     },
     "execution_count": 9,
     "metadata": {},
     "output_type": "execute_result"
    }
   ],
   "source": [
    "label_encoder = LabelEncoder()\n",
    "label_encoder.fit(train_df[\"document_type\"])"
   ]
  },
  {
   "cell_type": "code",
   "execution_count": 10,
   "metadata": {},
   "outputs": [
    {
     "data": {
      "text/plain": [
       "array(['acordao_de_2_instancia', 'agravo_em_recurso_extraordinario',\n",
       "       'despacho_de_admissibilidade', 'outros', 'peticao_do_RE',\n",
       "       'sentenca'], dtype=object)"
      ]
     },
     "execution_count": 10,
     "metadata": {},
     "output_type": "execute_result"
    }
   ],
   "source": [
    "label_encoder.classes_"
   ]
  },
  {
   "cell_type": "markdown",
   "metadata": {},
   "source": [
    "# Analisando corpus"
   ]
  },
  {
   "cell_type": "code",
   "execution_count": 42,
   "metadata": {},
   "outputs": [],
   "source": [
    "def print_tokenization(text: str) -> None:\n",
    "    print(f\"-- {text}\")\n",
    "    print(\"--{}\".format(\" \".join(tokenizer.convert_ids_to_tokens(tokenizer.encode(text, add_special_tokens=False, max_length=512, truncation=True)))))"
   ]
  },
  {
   "cell_type": "code",
   "execution_count": 21,
   "metadata": {},
   "outputs": [
    {
     "data": {
      "text/html": [
       "<div>\n",
       "<style scoped>\n",
       "    .dataframe tbody tr th:only-of-type {\n",
       "        vertical-align: middle;\n",
       "    }\n",
       "\n",
       "    .dataframe tbody tr th {\n",
       "        vertical-align: top;\n",
       "    }\n",
       "\n",
       "    .dataframe thead th {\n",
       "        text-align: right;\n",
       "    }\n",
       "</style>\n",
       "<table border=\"1\" class=\"dataframe\">\n",
       "  <thead>\n",
       "    <tr style=\"text-align: right;\">\n",
       "      <th></th>\n",
       "      <th>themes</th>\n",
       "      <th>process_id</th>\n",
       "      <th>file_name</th>\n",
       "      <th>document_type</th>\n",
       "      <th>pages</th>\n",
       "      <th>body</th>\n",
       "    </tr>\n",
       "  </thead>\n",
       "  <tbody>\n",
       "    <tr>\n",
       "      <th>0</th>\n",
       "      <td>[33]</td>\n",
       "      <td>AI_850120</td>\n",
       "      <td>AI_850120_789456_93_11052013.pdf</td>\n",
       "      <td>outros</td>\n",
       "      <td>1</td>\n",
       "      <td>processo termo remessa tendo vista disposto po...</td>\n",
       "    </tr>\n",
       "    <tr>\n",
       "      <th>1</th>\n",
       "      <td>[33]</td>\n",
       "      <td>AI_850127</td>\n",
       "      <td>AI_850127_273628856_1280_28102014.pdf</td>\n",
       "      <td>outros</td>\n",
       "      <td>1</td>\n",
       "      <td>supremo tribunal federal ofício brasília de ou...</td>\n",
       "    </tr>\n",
       "    <tr>\n",
       "      <th>2</th>\n",
       "      <td>[232]</td>\n",
       "      <td>AI_855935</td>\n",
       "      <td>AI_855935_1366318_50_29062013.pdf</td>\n",
       "      <td>outros</td>\n",
       "      <td>1</td>\n",
       "      <td>excelentíssimo senhor juiz presidente turma re...</td>\n",
       "    </tr>\n",
       "    <tr>\n",
       "      <th>3</th>\n",
       "      <td>[232]</td>\n",
       "      <td>AI_855935</td>\n",
       "      <td>AI_855935_1366318_50_29062013.pdf</td>\n",
       "      <td>outros</td>\n",
       "      <td>2</td>\n",
       "      <td>advogados agravado vitor rodrigues moura oab c...</td>\n",
       "    </tr>\n",
       "    <tr>\n",
       "      <th>4</th>\n",
       "      <td>[232]</td>\n",
       "      <td>AI_855935</td>\n",
       "      <td>AI_855935_1366318_50_29062013.pdf</td>\n",
       "      <td>outros</td>\n",
       "      <td>3</td>\n",
       "      <td>eminentes ministros tempestividade publicação ...</td>\n",
       "    </tr>\n",
       "  </tbody>\n",
       "</table>\n",
       "</div>"
      ],
      "text/plain": [
       "  themes process_id                              file_name document_type  \\\n",
       "0   [33]  AI_850120       AI_850120_789456_93_11052013.pdf        outros   \n",
       "1   [33]  AI_850127  AI_850127_273628856_1280_28102014.pdf        outros   \n",
       "2  [232]  AI_855935      AI_855935_1366318_50_29062013.pdf        outros   \n",
       "3  [232]  AI_855935      AI_855935_1366318_50_29062013.pdf        outros   \n",
       "4  [232]  AI_855935      AI_855935_1366318_50_29062013.pdf        outros   \n",
       "\n",
       "   pages                                               body  \n",
       "0      1  processo termo remessa tendo vista disposto po...  \n",
       "1      1  supremo tribunal federal ofício brasília de ou...  \n",
       "2      1  excelentíssimo senhor juiz presidente turma re...  \n",
       "3      2  advogados agravado vitor rodrigues moura oab c...  \n",
       "4      3  eminentes ministros tempestividade publicação ...  "
      ]
     },
     "execution_count": 21,
     "metadata": {},
     "output_type": "execute_result"
    }
   ],
   "source": [
    "test_df.head()"
   ]
  },
  {
   "cell_type": "code",
   "execution_count": 43,
   "metadata": {},
   "outputs": [
    {
     "name": "stdout",
     "output_type": "stream",
     "text": [
      "-- atividade inclusive quando decorrentes transformação reclassificação cargo função que deu aposentadoria que serviu referência para concessão pensão forma lei ARTIGO_2º aplica aos proventos aposentadorias dos servidores públicos que aposentarem forma caput ARTIGO_6º emenda constitucional disposto ARTIGO_7º mesma emenda ARTIGO_3º ressalvado direito opção aposentadoria pelas normas estabelecidas pelo ARTIGO_40 constituição federal pelas regras estabelecidas pelos ARTIGO_2º emenda constitucional servidor união dos estados distrito federal dos municípios incluídas suas autarquias fundações que tenha ingressado serviço público até de dezembro poderá aposentar com proventos integrais desde que preencha cumulativamente seguintes condições parágrafo único aplica ao valor dos proventos aposentadorias concedidas com base neste artigo disposto ARTIGO_7º emenda constitucional observando igual critério revisão pensões derivadas dos proventos servidores falecidos que tenham aposentado conformidade com este artigo originais sem grifos diante clareza das normas constitucionais acima mencionadas resta comprovado direito recorrente vez que sua aposentadoria ocorreu conformidade com regras que estabelece seu direito pleno igualdade passada futura inclusive relação mudança\n",
      "--atividade inclusive quando decorrentes transformação rec ##las ##si ##ficação cargo função que deu aposentadoria que serviu referência para concessão pensão forma lei AR ##TI ##GO _ [UNK] aplica aos proven ##tos aposentadoria ##s dos servidores públicos que aposentar ##em forma cap ##ut AR ##TI ##GO _ [UNK] em ##end ##a constitucional disposto AR ##TI ##GO _ [UNK] mesma em ##end ##a AR ##TI ##GO _ [UNK] ressal ##vado direito opção aposentadoria pelas normas estabelecidas pelo AR ##TI ##GO _ 40 constituição federal pelas regras estabelecidas pelos AR ##TI ##GO _ [UNK] em ##end ##a constitucional servidor união dos estados distrito federal dos municípios incluídas suas aut ##arquia ##s funda ##ções que tenha ingress ##ado serviço público até de dezembro poderá aposentar com proven ##tos integra ##is desde que preench ##a cu ##mul ##at ##ivamente seguintes condições pará ##grafo único aplica ao valor dos proven ##tos aposentadoria ##s concedida ##s com base neste artigo disposto AR ##TI ##GO _ [UNK] em ##end ##a constitucional observando igual critério revisão pens ##ões derivadas dos proven ##tos servidores falecido ##s que tenham aposentado conformidade com este artigo originais sem gri ##fos diante clar ##eza das normas constitucionais acima mencionada ##s resta compro ##vado direito recorrente vez que sua aposentadoria ocorreu conformidade com regras que estabelece seu direito pleno igualdade passada futura inclusive relação mudança\n",
      "--------------------\n",
      "-- supremo tribunal federal secretaria judiciária coordenadoria processamento inicial termo recebimento autuação estes autos foram recebidos autuados nas datas com observações abaixo are proced minas gerais origem tribunal justiça estado minas gerais número processo origem recte unimed juiz fora coop trabalho medico ltda adv s liliane neto barroso adv s paula regina guerra resende couri recdo s ana lúcia ribeiro bernardo representada por marta ribeiro adv s cyro pereira magalhaes gomes qtd folhas qtd volumes qtd apensos assunto direito administrativo outras matérias direito público atos administrativos improbidade administrativa direito processual civil do trabalho processo procedimento vícios formais sentença direito processual civil do trabalho liquidação cumprimento execução sentença efeito suspensivo impugnação embargos execução direito tributário crédito tributário suspensão exigibilidade parcelamento direito processual civil do trabalho liquidação cumprimento execução sentença multa direito consumidor contratos consumo seguro direito processual civil do trabalho liquidação cumprimento execução obrigação fazer não fazer direito consumidor contratos consumo planos saúde tema obrigatoriedade fundamentação das decisões judiciais violação dos princípios contraditório da ampla defesa quando julgamento causa depender prévia análise adequada aplicação das normas infraconstitucionais extensão entendimento princípio devido processo legal aos limites coisa julgada are ofensa princípio inafastabilidade jurisdição hipótese que óbice processual intransponível julgamento mérito responsabilidade civil por danos morais materiais decorrentes negativa cobertura por operadora plano saúde are data autuação certidão registro presidência certidão gerada esta certidão pode ser validada SITE com seguinte código\n",
      "--supremo tribunal federal secreta ##ria judic ##iária coordenador ##ia processamento inicial termo receb ##imento aut ##ua ##ção estes auto ##s foram recebidos aut ##ua ##dos nas datas com observações abaixo are proce ##d minas gerais origem tribunal justiça estado minas gerais número processo origem rec ##te un ##ime ##d juiz fora coo ##p trabalho medic ##o l ##t ##da ad ##v s li ##lian ##e neto barro ##so ad ##v s paul ##a reg ##ina guerra res ##ende co ##uri rec ##do s ana lú ##cia rib ##eiro ber ##nar ##do representada por mar ##ta rib ##eiro ad ##v s c ##yr ##o pere ##ira mag ##alha ##es go ##mes [UNK] folhas [UNK] volumes [UNK] ape ##ns ##os assunto direito administrativo outras matérias direito público atos administrativos impro ##bi ##dade administrativa direito process ##ual civil do trabalho processo procedimento ví ##cios formais sentença direito process ##ual civil do trabalho liqu ##idação cumprimento execução sentença efeito suspens ##ivo imp ##ug ##nação embar ##gos execução direito tribu ##tário crédito tribu ##tário suspensão exig ##ibilidade parcela ##mento direito process ##ual civil do trabalho liqu ##idação cumprimento execução sentença multa direito consumidor contratos consumo seguro direito process ##ual civil do trabalho liqu ##idação cumprimento execução obrigação fazer não fazer direito consumidor contratos consumo planos saúde tema obriga ##tor ##iedade funda ##mentação das decisões judiciais violação dos princípios contra ##dit ##ório da ampla defesa quando julgamento causa depender prévia análise adequada aplicação das normas infra ##cons ##titu ##cionais extensão entendimento princípio devido processo legal aos limites coisa julga ##da are ofens ##a princípio ina ##fas ##ta ##bilidade jurisdição hipótese que ób ##ice process ##ual intra ##ns ##pon ##ível julgamento mérito responsa ##bilidade civil por danos morais materiais decorrentes negativa cobertura por operador ##a plano saúde are data aut ##ua ##ção cer ##tidão registro presidência cer ##tidão gerada esta cer ##tidão pode ser val ##idada S ##IT ##E com seguinte código\n",
      "--------------------\n",
      "-- secretaria turma recursal aguardando remessa jef arquivo tr baixa análise novos recursos juiz tr para decisão monocrática presidência agravo instrumento juiz tr para validação despacho presidente documento despacho agravo _intimação parte agravada remessa secretaria turma recursal recebido juiz despacho secretaria turma recursal aguardando decurso prazo manifestação s parte documento outros ciência secretaria turma recursal aguardando remessa ai stf documento certidão decurso prazo contrarrazões documento certidão processo remetido stf\n",
      "--secreta ##ria turma recu ##rs ##al aguarda ##ndo reme ##s ##sa je ##f arquivo tr baixa análise novos recursos juiz tr para decisão mono ##cr ##ática presidência agra ##vo instrumento juiz tr para val ##idação despa ##cho presidente documento despa ##cho agra ##vo _ intim ##ação parte agra ##vada reme ##s ##sa secreta ##ria turma recu ##rs ##al recebido juiz despa ##cho secreta ##ria turma recu ##rs ##al aguarda ##ndo dec ##urso prazo manifestação s parte documento outros ciência secreta ##ria turma recu ##rs ##al aguarda ##ndo reme ##s ##sa a ##i s ##t ##f documento cer ##tidão dec ##urso prazo contra ##r ##raz ##ões documento cer ##tidão processo reme ##tido s ##t ##f\n",
      "--------------------\n"
     ]
    }
   ],
   "source": [
    "SAMPLE = 3\n",
    "for text in test_df.sample(SAMPLE)[\"body\"].values:\n",
    "    print_tokenization(text)\n",
    "    print(\"--\" * 10)"
   ]
  },
  {
   "cell_type": "markdown",
   "metadata": {},
   "source": [
    "# Realizando inferências"
   ]
  },
  {
   "cell_type": "code",
   "execution_count": 11,
   "metadata": {},
   "outputs": [],
   "source": [
    "from sklearn.preprocessing import LabelEncoder"
   ]
  },
  {
   "cell_type": "code",
   "execution_count": 12,
   "metadata": {},
   "outputs": [],
   "source": [
    "cls_explainer = SequenceClassificationExplainer(\n",
    "    model,\n",
    "    tokenizer,\n",
    "    custom_labels=label_encoder.classes_\n",
    ")"
   ]
  },
  {
   "cell_type": "code",
   "execution_count": 13,
   "metadata": {},
   "outputs": [],
   "source": [
    "FILTER_BY = \"acordao_de_2_instancia\""
   ]
  },
  {
   "cell_type": "code",
   "execution_count": 14,
   "metadata": {},
   "outputs": [
    {
     "data": {
      "text/plain": [
       "('isentando todavia respectivo pagamento face ARTIGO_3o LEI_1060 deferindo justiça gratuita mas ressalvado disposto nos seus ARTIGO_11o como voto jorge andré carvalho mendonça juiz federal relator acórdão vistos etc decide segunda turma recursal dos juizados especiais federais pernambuco unanimidade negar provimento recurso nos termos voto acima recife data julgamento jorge andré carvalho mendonça juiz federal relator',\n",
       " 'acordao_de_2_instancia')"
      ]
     },
     "execution_count": 14,
     "metadata": {},
     "output_type": "execute_result"
    }
   ],
   "source": [
    "sampled_df = test_df[test_df[\"document_type\"] == FILTER_BY]\n",
    "example = sampled_df.sample(1)\n",
    "ex_text = example[\"body\"].values[0]\n",
    "ex_label = example[\"document_type\"].values[0]\n",
    "ex_text, ex_label"
   ]
  },
  {
   "cell_type": "code",
   "execution_count": 15,
   "metadata": {},
   "outputs": [],
   "source": [
    "word_attributions = cls_explainer(ex_text, class_name=ex_label)"
   ]
  },
  {
   "cell_type": "code",
   "execution_count": 16,
   "metadata": {},
   "outputs": [
    {
     "data": {
      "text/html": [
       "<table width: 100%><div style=\"border-top: 1px solid; margin-top: 5px;             padding-top: 5px; display: inline-block\"><b>Legend: </b><span style=\"display: inline-block; width: 10px; height: 10px;                 border: 1px solid; background-color:                 hsl(0, 75%, 60%)\"></span> Negative  <span style=\"display: inline-block; width: 10px; height: 10px;                 border: 1px solid; background-color:                 hsl(0, 75%, 100%)\"></span> Neutral  <span style=\"display: inline-block; width: 10px; height: 10px;                 border: 1px solid; background-color:                 hsl(120, 75%, 50%)\"></span> Positive  </div><tr><th>True Label</th><th>Predicted Label</th><th>Attribution Label</th><th>Attribution Score</th><th>Word Importance</th><tr><td><text style=\"padding-right:2em\"><b>0</b></text></td><td><text style=\"padding-right:2em\"><b>outros (0.00)</b></text></td><td><text style=\"padding-right:2em\"><b>acordao_de_2_instancia</b></text></td><td><text style=\"padding-right:2em\"><b>-2.59</b></text></td><td><mark style=\"background-color: hsl(0, 75%, 100%); opacity:1.0;                     line-height:1.75\"><font color=\"black\"> [CLS]                    </font></mark><mark style=\"background-color: hsl(0, 75%, 80%); opacity:1.0;                     line-height:1.75\"><font color=\"black\"> is                    </font></mark><mark style=\"background-color: hsl(0, 75%, 84%); opacity:1.0;                     line-height:1.75\"><font color=\"black\"> ##enta                    </font></mark><mark style=\"background-color: hsl(0, 75%, 79%); opacity:1.0;                     line-height:1.75\"><font color=\"black\"> ##ndo                    </font></mark><mark style=\"background-color: hsl(0, 75%, 91%); opacity:1.0;                     line-height:1.75\"><font color=\"black\"> todavia                    </font></mark><mark style=\"background-color: hsl(0, 75%, 98%); opacity:1.0;                     line-height:1.75\"><font color=\"black\"> respectivo                    </font></mark><mark style=\"background-color: hsl(120, 75%, 99%); opacity:1.0;                     line-height:1.75\"><font color=\"black\"> pagamento                    </font></mark><mark style=\"background-color: hsl(0, 75%, 97%); opacity:1.0;                     line-height:1.75\"><font color=\"black\"> face                    </font></mark><mark style=\"background-color: hsl(0, 75%, 94%); opacity:1.0;                     line-height:1.75\"><font color=\"black\"> AR                    </font></mark><mark style=\"background-color: hsl(0, 75%, 94%); opacity:1.0;                     line-height:1.75\"><font color=\"black\"> ##TI                    </font></mark><mark style=\"background-color: hsl(0, 75%, 97%); opacity:1.0;                     line-height:1.75\"><font color=\"black\"> ##GO                    </font></mark><mark style=\"background-color: hsl(0, 75%, 99%); opacity:1.0;                     line-height:1.75\"><font color=\"black\"> _                    </font></mark><mark style=\"background-color: hsl(0, 75%, 98%); opacity:1.0;                     line-height:1.75\"><font color=\"black\"> 3                    </font></mark><mark style=\"background-color: hsl(120, 75%, 99%); opacity:1.0;                     line-height:1.75\"><font color=\"black\"> ##o                    </font></mark><mark style=\"background-color: hsl(0, 75%, 100%); opacity:1.0;                     line-height:1.75\"><font color=\"black\"> L                    </font></mark><mark style=\"background-color: hsl(0, 75%, 99%); opacity:1.0;                     line-height:1.75\"><font color=\"black\"> ##EI                    </font></mark><mark style=\"background-color: hsl(0, 75%, 98%); opacity:1.0;                     line-height:1.75\"><font color=\"black\"> _                    </font></mark><mark style=\"background-color: hsl(0, 75%, 95%); opacity:1.0;                     line-height:1.75\"><font color=\"black\"> 106                    </font></mark><mark style=\"background-color: hsl(0, 75%, 97%); opacity:1.0;                     line-height:1.75\"><font color=\"black\"> ##0                    </font></mark><mark style=\"background-color: hsl(0, 75%, 97%); opacity:1.0;                     line-height:1.75\"><font color=\"black\"> defe                    </font></mark><mark style=\"background-color: hsl(0, 75%, 98%); opacity:1.0;                     line-height:1.75\"><font color=\"black\"> ##rindo                    </font></mark><mark style=\"background-color: hsl(0, 75%, 99%); opacity:1.0;                     line-height:1.75\"><font color=\"black\"> justiça                    </font></mark><mark style=\"background-color: hsl(0, 75%, 97%); opacity:1.0;                     line-height:1.75\"><font color=\"black\"> gratuita                    </font></mark><mark style=\"background-color: hsl(120, 75%, 94%); opacity:1.0;                     line-height:1.75\"><font color=\"black\"> mas                    </font></mark><mark style=\"background-color: hsl(120, 75%, 98%); opacity:1.0;                     line-height:1.75\"><font color=\"black\"> ressal                    </font></mark><mark style=\"background-color: hsl(0, 75%, 99%); opacity:1.0;                     line-height:1.75\"><font color=\"black\"> ##vado                    </font></mark><mark style=\"background-color: hsl(120, 75%, 100%); opacity:1.0;                     line-height:1.75\"><font color=\"black\"> disposto                    </font></mark><mark style=\"background-color: hsl(0, 75%, 99%); opacity:1.0;                     line-height:1.75\"><font color=\"black\"> nos                    </font></mark><mark style=\"background-color: hsl(0, 75%, 99%); opacity:1.0;                     line-height:1.75\"><font color=\"black\"> seus                    </font></mark><mark style=\"background-color: hsl(0, 75%, 99%); opacity:1.0;                     line-height:1.75\"><font color=\"black\"> AR                    </font></mark><mark style=\"background-color: hsl(0, 75%, 100%); opacity:1.0;                     line-height:1.75\"><font color=\"black\"> ##TI                    </font></mark><mark style=\"background-color: hsl(120, 75%, 100%); opacity:1.0;                     line-height:1.75\"><font color=\"black\"> ##GO                    </font></mark><mark style=\"background-color: hsl(0, 75%, 100%); opacity:1.0;                     line-height:1.75\"><font color=\"black\"> _                    </font></mark><mark style=\"background-color: hsl(0, 75%, 100%); opacity:1.0;                     line-height:1.75\"><font color=\"black\"> 11                    </font></mark><mark style=\"background-color: hsl(0, 75%, 100%); opacity:1.0;                     line-height:1.75\"><font color=\"black\"> ##o                    </font></mark><mark style=\"background-color: hsl(0, 75%, 100%); opacity:1.0;                     line-height:1.75\"><font color=\"black\"> como                    </font></mark><mark style=\"background-color: hsl(0, 75%, 100%); opacity:1.0;                     line-height:1.75\"><font color=\"black\"> voto                    </font></mark><mark style=\"background-color: hsl(0, 75%, 100%); opacity:1.0;                     line-height:1.75\"><font color=\"black\"> jor                    </font></mark><mark style=\"background-color: hsl(120, 75%, 100%); opacity:1.0;                     line-height:1.75\"><font color=\"black\"> ##ge                    </font></mark><mark style=\"background-color: hsl(0, 75%, 99%); opacity:1.0;                     line-height:1.75\"><font color=\"black\"> and                    </font></mark><mark style=\"background-color: hsl(0, 75%, 100%); opacity:1.0;                     line-height:1.75\"><font color=\"black\"> ##ré                    </font></mark><mark style=\"background-color: hsl(0, 75%, 100%); opacity:1.0;                     line-height:1.75\"><font color=\"black\"> car                    </font></mark><mark style=\"background-color: hsl(0, 75%, 98%); opacity:1.0;                     line-height:1.75\"><font color=\"black\"> ##valho                    </font></mark><mark style=\"background-color: hsl(120, 75%, 99%); opacity:1.0;                     line-height:1.75\"><font color=\"black\"> men                    </font></mark><mark style=\"background-color: hsl(120, 75%, 100%); opacity:1.0;                     line-height:1.75\"><font color=\"black\"> ##don                    </font></mark><mark style=\"background-color: hsl(120, 75%, 100%); opacity:1.0;                     line-height:1.75\"><font color=\"black\"> ##ça                    </font></mark><mark style=\"background-color: hsl(120, 75%, 100%); opacity:1.0;                     line-height:1.75\"><font color=\"black\"> juiz                    </font></mark><mark style=\"background-color: hsl(120, 75%, 100%); opacity:1.0;                     line-height:1.75\"><font color=\"black\"> federal                    </font></mark><mark style=\"background-color: hsl(120, 75%, 100%); opacity:1.0;                     line-height:1.75\"><font color=\"black\"> relato                    </font></mark><mark style=\"background-color: hsl(120, 75%, 100%); opacity:1.0;                     line-height:1.75\"><font color=\"black\"> ##r                    </font></mark><mark style=\"background-color: hsl(0, 75%, 99%); opacity:1.0;                     line-height:1.75\"><font color=\"black\"> ac                    </font></mark><mark style=\"background-color: hsl(0, 75%, 99%); opacity:1.0;                     line-height:1.75\"><font color=\"black\"> ##ór                    </font></mark><mark style=\"background-color: hsl(0, 75%, 100%); opacity:1.0;                     line-height:1.75\"><font color=\"black\"> ##dão                    </font></mark><mark style=\"background-color: hsl(120, 75%, 100%); opacity:1.0;                     line-height:1.75\"><font color=\"black\"> vistos                    </font></mark><mark style=\"background-color: hsl(0, 75%, 100%); opacity:1.0;                     line-height:1.75\"><font color=\"black\"> etc                    </font></mark><mark style=\"background-color: hsl(120, 75%, 100%); opacity:1.0;                     line-height:1.75\"><font color=\"black\"> decide                    </font></mark><mark style=\"background-color: hsl(120, 75%, 100%); opacity:1.0;                     line-height:1.75\"><font color=\"black\"> segunda                    </font></mark><mark style=\"background-color: hsl(0, 75%, 100%); opacity:1.0;                     line-height:1.75\"><font color=\"black\"> turma                    </font></mark><mark style=\"background-color: hsl(0, 75%, 100%); opacity:1.0;                     line-height:1.75\"><font color=\"black\"> recu                    </font></mark><mark style=\"background-color: hsl(0, 75%, 100%); opacity:1.0;                     line-height:1.75\"><font color=\"black\"> ##rs                    </font></mark><mark style=\"background-color: hsl(0, 75%, 100%); opacity:1.0;                     line-height:1.75\"><font color=\"black\"> ##al                    </font></mark><mark style=\"background-color: hsl(0, 75%, 100%); opacity:1.0;                     line-height:1.75\"><font color=\"black\"> dos                    </font></mark><mark style=\"background-color: hsl(120, 75%, 100%); opacity:1.0;                     line-height:1.75\"><font color=\"black\"> juiz                    </font></mark><mark style=\"background-color: hsl(120, 75%, 99%); opacity:1.0;                     line-height:1.75\"><font color=\"black\"> ##ados                    </font></mark><mark style=\"background-color: hsl(120, 75%, 100%); opacity:1.0;                     line-height:1.75\"><font color=\"black\"> especiais                    </font></mark><mark style=\"background-color: hsl(120, 75%, 100%); opacity:1.0;                     line-height:1.75\"><font color=\"black\"> federais                    </font></mark><mark style=\"background-color: hsl(120, 75%, 96%); opacity:1.0;                     line-height:1.75\"><font color=\"black\"> pernambu                    </font></mark><mark style=\"background-color: hsl(120, 75%, 96%); opacity:1.0;                     line-height:1.75\"><font color=\"black\"> ##co                    </font></mark><mark style=\"background-color: hsl(0, 75%, 100%); opacity:1.0;                     line-height:1.75\"><font color=\"black\"> unanimidade                    </font></mark><mark style=\"background-color: hsl(120, 75%, 96%); opacity:1.0;                     line-height:1.75\"><font color=\"black\"> nega                    </font></mark><mark style=\"background-color: hsl(120, 75%, 97%); opacity:1.0;                     line-height:1.75\"><font color=\"black\"> ##r                    </font></mark><mark style=\"background-color: hsl(0, 75%, 100%); opacity:1.0;                     line-height:1.75\"><font color=\"black\"> prov                    </font></mark><mark style=\"background-color: hsl(120, 75%, 100%); opacity:1.0;                     line-height:1.75\"><font color=\"black\"> ##imento                    </font></mark><mark style=\"background-color: hsl(120, 75%, 99%); opacity:1.0;                     line-height:1.75\"><font color=\"black\"> recurso                    </font></mark><mark style=\"background-color: hsl(120, 75%, 100%); opacity:1.0;                     line-height:1.75\"><font color=\"black\"> nos                    </font></mark><mark style=\"background-color: hsl(0, 75%, 100%); opacity:1.0;                     line-height:1.75\"><font color=\"black\"> termos                    </font></mark><mark style=\"background-color: hsl(0, 75%, 100%); opacity:1.0;                     line-height:1.75\"><font color=\"black\"> voto                    </font></mark><mark style=\"background-color: hsl(0, 75%, 100%); opacity:1.0;                     line-height:1.75\"><font color=\"black\"> acima                    </font></mark><mark style=\"background-color: hsl(120, 75%, 100%); opacity:1.0;                     line-height:1.75\"><font color=\"black\"> reci                    </font></mark><mark style=\"background-color: hsl(120, 75%, 98%); opacity:1.0;                     line-height:1.75\"><font color=\"black\"> ##fe                    </font></mark><mark style=\"background-color: hsl(120, 75%, 100%); opacity:1.0;                     line-height:1.75\"><font color=\"black\"> data                    </font></mark><mark style=\"background-color: hsl(0, 75%, 100%); opacity:1.0;                     line-height:1.75\"><font color=\"black\"> julgamento                    </font></mark><mark style=\"background-color: hsl(0, 75%, 99%); opacity:1.0;                     line-height:1.75\"><font color=\"black\"> jor                    </font></mark><mark style=\"background-color: hsl(120, 75%, 100%); opacity:1.0;                     line-height:1.75\"><font color=\"black\"> ##ge                    </font></mark><mark style=\"background-color: hsl(0, 75%, 100%); opacity:1.0;                     line-height:1.75\"><font color=\"black\"> and                    </font></mark><mark style=\"background-color: hsl(120, 75%, 100%); opacity:1.0;                     line-height:1.75\"><font color=\"black\"> ##ré                    </font></mark><mark style=\"background-color: hsl(120, 75%, 99%); opacity:1.0;                     line-height:1.75\"><font color=\"black\"> car                    </font></mark><mark style=\"background-color: hsl(0, 75%, 100%); opacity:1.0;                     line-height:1.75\"><font color=\"black\"> ##valho                    </font></mark><mark style=\"background-color: hsl(120, 75%, 97%); opacity:1.0;                     line-height:1.75\"><font color=\"black\"> men                    </font></mark><mark style=\"background-color: hsl(120, 75%, 99%); opacity:1.0;                     line-height:1.75\"><font color=\"black\"> ##don                    </font></mark><mark style=\"background-color: hsl(120, 75%, 98%); opacity:1.0;                     line-height:1.75\"><font color=\"black\"> ##ça                    </font></mark><mark style=\"background-color: hsl(0, 75%, 100%); opacity:1.0;                     line-height:1.75\"><font color=\"black\"> juiz                    </font></mark><mark style=\"background-color: hsl(120, 75%, 100%); opacity:1.0;                     line-height:1.75\"><font color=\"black\"> federal                    </font></mark><mark style=\"background-color: hsl(0, 75%, 100%); opacity:1.0;                     line-height:1.75\"><font color=\"black\"> relato                    </font></mark><mark style=\"background-color: hsl(0, 75%, 100%); opacity:1.0;                     line-height:1.75\"><font color=\"black\"> ##r                    </font></mark><mark style=\"background-color: hsl(0, 75%, 100%); opacity:1.0;                     line-height:1.75\"><font color=\"black\"> [SEP]                    </font></mark></td><tr></table>"
      ],
      "text/plain": [
       "<IPython.core.display.HTML object>"
      ]
     },
     "metadata": {},
     "output_type": "display_data"
    }
   ],
   "source": [
    "_ = cls_explainer.visualize()"
   ]
  }
 ],
 "metadata": {
  "interpreter": {
   "hash": "9ca19dfd6cc13d85ee91f977d98c89f84c94e40f212bf7823f7bb954e842355f"
  },
  "kernelspec": {
   "display_name": "Python 3.7.11 ('transformers')",
   "language": "python",
   "name": "python3"
  },
  "language_info": {
   "codemirror_mode": {
    "name": "ipython",
    "version": 3
   },
   "file_extension": ".py",
   "mimetype": "text/x-python",
   "name": "python",
   "nbconvert_exporter": "python",
   "pygments_lexer": "ipython3",
   "version": "3.7.11"
  },
  "orig_nbformat": 4
 },
 "nbformat": 4,
 "nbformat_minor": 2
}
