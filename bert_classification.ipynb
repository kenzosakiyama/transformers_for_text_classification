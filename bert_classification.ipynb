{
 "metadata": {
  "language_info": {
   "codemirror_mode": {
    "name": "ipython",
    "version": 3
   },
   "file_extension": ".py",
   "mimetype": "text/x-python",
   "name": "python",
   "nbconvert_exporter": "python",
   "pygments_lexer": "ipython3",
   "version": "3.6.9-final"
  },
  "orig_nbformat": 2,
  "kernelspec": {
   "name": "Python 3.6.9 64-bit ('bert': virtualenv)",
   "display_name": "Python 3.6.9 64-bit ('bert': virtualenv)",
   "metadata": {
    "interpreter": {
     "hash": "eff88277fb73975c12d1396ee5027a873de6a4cc7778f3072fe3a9960a29a15a"
    }
   }
  }
 },
 "nbformat": 4,
 "nbformat_minor": 2,
 "cells": [
  {
   "cell_type": "code",
   "execution_count": 1,
   "metadata": {},
   "outputs": [],
   "source": [
    "import numpy as np\n",
    "import pandas as pd\n",
    "import torch\n",
    "import torch.nn as nn\n",
    "import torch.nn.functional as F\n",
    "from torch.utils.data import DataLoader\n",
    "from torch.optim.lr_scheduler import OneCycleLR\n",
    "from transformers import BertTokenizerFast, BertModel\n",
    "from transformers import AdamW\n",
    "from utils.datasets import TextDataset\n",
    "from models.bert import BertForClassification\n",
    "import tqdm.notebook as tqdm"
   ]
  },
  {
   "cell_type": "code",
   "execution_count": 2,
   "metadata": {},
   "outputs": [],
   "source": [
    "MODEL = \"neuralmind/bert-base-portuguese-cased\""
   ]
  },
  {
   "source": [
    "# Loading tweet dataset"
   ],
   "cell_type": "markdown",
   "metadata": {}
  },
  {
   "cell_type": "code",
   "execution_count": 3,
   "metadata": {},
   "outputs": [],
   "source": [
    "train_df = pd.read_csv(\"/home/kenzo/datasets/cleaned_tweetsentbr/train.tsv\", sep=\"\\t\", names=[\"id\", \"label\", \"alfa\", \"text\"], index_col=0)\n",
    "test_df = pd.read_csv(\"/home/kenzo/datasets/cleaned_tweetsentbr/test.tsv\", sep=\"\\t\", names=[\"id\", \"label\", \"alfa\", \"text\"], index_col=0)"
   ]
  },
  {
   "cell_type": "code",
   "execution_count": 4,
   "metadata": {},
   "outputs": [],
   "source": [
    "# TODO: Exploração dos dados"
   ]
  },
  {
   "cell_type": "code",
   "execution_count": 5,
   "metadata": {
    "tags": []
   },
   "outputs": [],
   "source": [
    "tokenizer = BertTokenizerFast.from_pretrained(MODEL)"
   ]
  },
  {
   "cell_type": "code",
   "execution_count": 6,
   "metadata": {},
   "outputs": [],
   "source": [
    "# train_ds = BertDataset.from_df(train_df, tokenizer, max_seq_len=128)\n",
    "# test_ds = BertDataset.from_df(test_df, tokenizer, max_seq_len=128)\n",
    "\n",
    "train_ds = TextDataset.from_df(train_df, tokenizer, max_seq_len=128)\n",
    "test_ds = TextDataset.from_df(test_df, tokenizer, max_seq_len=128)"
   ]
  },
  {
   "source": [
    "# Preparing model"
   ],
   "cell_type": "markdown",
   "metadata": {}
  },
  {
   "cell_type": "code",
   "execution_count": 7,
   "metadata": {},
   "outputs": [],
   "source": [
    "from sklearn.metrics import accuracy_score, precision_score, recall_score, f1_score\n",
    "from functools import partial\n",
    "\n",
    "metrics = {\n",
    "    \"accuracy\": accuracy_score,\n",
    "    \"precision\": partial(precision_score, average=\"macro\"),\n",
    "    \"recall\": partial(recall_score, average=\"macro\"),\n",
    "    \"f1\": partial(f1_score, average=\"macro\"),\n",
    "}"
   ]
  },
  {
   "cell_type": "code",
   "execution_count": 8,
   "metadata": {},
   "outputs": [],
   "source": [
    "gpu = torch.device(\"cuda:1\")"
   ]
  },
  {
   "cell_type": "code",
   "execution_count": 9,
   "metadata": {
    "tags": []
   },
   "outputs": [],
   "source": [
    "bert_model = BertModel.from_pretrained(MODEL)"
   ]
  },
  {
   "cell_type": "code",
   "execution_count": 10,
   "metadata": {},
   "outputs": [],
   "source": [
    "model = BertForClassification(bert_model, 3, metrics).cuda(gpu)"
   ]
  },
  {
   "cell_type": "code",
   "execution_count": 11,
   "metadata": {},
   "outputs": [],
   "source": [
    "train_dl = DataLoader(train_ds, batch_size=64, shuffle=True)\n",
    "test_dl = DataLoader(test_ds, batch_size=64, shuffle=True)"
   ]
  },
  {
   "cell_type": "code",
   "execution_count": 12,
   "metadata": {},
   "outputs": [],
   "source": [
    "batches = len(train_dl)\n",
    "epochs = 3\n",
    "optimizer = AdamW(model.parameters(), lr=1e-5) \n",
    "scheduler = OneCycleLR(optimizer, max_lr=1e-5, steps_per_epoch=batches, epochs=epochs)\n",
    "criterion = nn.CrossEntropyLoss()"
   ]
  },
  {
   "cell_type": "code",
   "execution_count": 13,
   "metadata": {
    "tags": []
   },
   "outputs": [
    {
     "output_type": "stream",
     "name": "stderr",
     "text": [
      "- Remaining batches: 100%|██████████| 154/154 [07:27<00:00,  2.91s/it]\n",
      "Epoch: 1\n",
      "- Remaining batches:   0%|          | 0/154 [00:00<?, ?it/s]\ttrain_loss: 1.0045083145816605 // test_loss: 0.735122099900857// metrics: {'accuracy': 0.6803411860276198, 'precision': 0.6588421202371125, 'recall': 0.6498992602109009, 'f1': 0.6442061765449211}\n",
      "\n",
      "- Remaining batches: 100%|██████████| 154/154 [07:27<00:00,  2.91s/it]\n",
      "Epoch: 2\n",
      "- Remaining batches:   0%|          | 0/154 [00:00<?, ?it/s]\ttrain_loss: 0.6838446801359003 // test_loss: 0.6714265140203329// metrics: {'accuracy': 0.7164906580016247, 'precision': 0.6947038219588575, 'recall': 0.6917201475371231, 'f1': 0.6923268928100267}\n",
      "\n",
      "- Remaining batches: 100%|██████████| 154/154 [07:27<00:00,  2.91s/it]\n",
      "Epoch: 3\n",
      "\ttrain_loss: 0.5844345448853133 // test_loss: 0.6782754636727847// metrics: {'accuracy': 0.7160844841592201, 'precision': 0.6948619253541238, 'recall': 0.6947144293499066, 'f1': 0.6930486393018985}\n",
      "\n"
     ]
    }
   ],
   "source": [
    "train, test = model.fit(epochs, train_dl, test_dl, criterion, optimizer, scheduler=scheduler, cuda=True, device=gpu)"
   ]
  },
  {
   "cell_type": "code",
   "execution_count": 16,
   "metadata": {},
   "outputs": [],
   "source": [
    "torch.save(model.state_dict(), \"data/checkpoints/bert_tweetsent_br.ckpt\")"
   ]
  },
  {
   "cell_type": "code",
   "execution_count": null,
   "metadata": {},
   "outputs": [],
   "source": []
  }
 ]
}