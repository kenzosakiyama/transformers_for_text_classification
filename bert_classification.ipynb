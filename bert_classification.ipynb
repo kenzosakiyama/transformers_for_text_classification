{
 "metadata": {
  "language_info": {
   "codemirror_mode": {
    "name": "ipython",
    "version": 3
   },
   "file_extension": ".py",
   "mimetype": "text/x-python",
   "name": "python",
   "nbconvert_exporter": "python",
   "pygments_lexer": "ipython3",
   "version": "3.6.9-final"
  },
  "orig_nbformat": 2,
  "kernelspec": {
   "name": "Python 3.6.9 64-bit ('bert': virtualenv)",
   "display_name": "Python 3.6.9 64-bit ('bert': virtualenv)",
   "metadata": {
    "interpreter": {
     "hash": "eff88277fb73975c12d1396ee5027a873de6a4cc7778f3072fe3a9960a29a15a"
    }
   }
  }
 },
 "nbformat": 4,
 "nbformat_minor": 2,
 "cells": [
  {
   "cell_type": "code",
   "execution_count": 1,
   "metadata": {},
   "outputs": [],
   "source": [
    "import numpy as np\n",
    "import pandas as pd\n",
    "import torch\n",
    "import torch.nn as nn\n",
    "import torch.nn.functional as F\n",
    "import tqdm.notebook as tqdm\n",
    "from torch.utils.data import DataLoader\n",
    "from transformers import BertTokenizerFast, BertForSequenceClassification\n",
    "from transformers import AdamW\n",
    "\n",
    "from utils.datasets import TextDataset\n",
    "from models.bert import BertForClassification"
   ]
  },
  {
   "cell_type": "code",
   "execution_count": 2,
   "metadata": {},
   "outputs": [],
   "source": [
    "MODEL = \"neuralmind/bert-base-portuguese-cased\""
   ]
  },
  {
   "source": [
    "# Loading tweet dataset"
   ],
   "cell_type": "markdown",
   "metadata": {}
  },
  {
   "cell_type": "code",
   "execution_count": 3,
   "metadata": {},
   "outputs": [],
   "source": [
    "train_df = pd.read_csv(\"/home/kenzo/datasets/cleaned_tweetsentbr/train.tsv\", sep=\"\\t\", names=[\"id\", \"label\", \"alfa\", \"text\"], index_col=0)\n",
    "test_df = pd.read_csv(\"/home/kenzo/datasets/cleaned_tweetsentbr/test.tsv\", sep=\"\\t\", names=[\"id\", \"label\", \"alfa\", \"text\"], index_col=0)"
   ]
  },
  {
   "cell_type": "code",
   "execution_count": 4,
   "metadata": {},
   "outputs": [],
   "source": [
    "# TODO: Exploração dos dados"
   ]
  },
  {
   "cell_type": "code",
   "execution_count": 5,
   "metadata": {
    "tags": []
   },
   "outputs": [],
   "source": [
    "tokenizer = BertTokenizerFast.from_pretrained(MODEL)"
   ]
  },
  {
   "cell_type": "code",
   "execution_count": 6,
   "metadata": {},
   "outputs": [],
   "source": [
    "# train_ds = BertDataset.from_df(train_df, tokenizer, max_seq_len=128)\n",
    "# test_ds = BertDataset.from_df(test_df, tokenizer, max_seq_len=128)\n",
    "\n",
    "train_ds = TextDataset.from_df(train_df, tokenizer, max_seq_len=128)\n",
    "test_ds = TextDataset.from_df(test_df, tokenizer, max_seq_len=128)"
   ]
  },
  {
   "source": [
    "# Preparing model"
   ],
   "cell_type": "markdown",
   "metadata": {}
  },
  {
   "cell_type": "code",
   "execution_count": 7,
   "metadata": {},
   "outputs": [],
   "source": [
    "from sklearn.metrics import accuracy_score, precision_score, recall_score, f1_score\n",
    "from functools import partial\n",
    "\n",
    "metrics = {\n",
    "    \"accuracy\": accuracy_score,\n",
    "    \"precision\": partial(precision_score, average=\"macro\"),\n",
    "    \"recall\": partial(recall_score, average=\"macro\"),\n",
    "    \"f1\": partial(f1_score, average=\"macro\"),\n",
    "}"
   ]
  },
  {
   "cell_type": "code",
   "execution_count": 8,
   "metadata": {},
   "outputs": [],
   "source": [
    "gpu = torch.device(\"cuda:1\")"
   ]
  },
  {
   "cell_type": "code",
   "execution_count": 9,
   "metadata": {
    "tags": []
   },
   "outputs": [
    {
     "output_type": "stream",
     "name": "stderr",
     "text": [
      "Some weights of the model checkpoint at neuralmind/bert-base-portuguese-cased were not used when initializing BertForSequenceClassification: ['cls.predictions.bias', 'cls.predictions.transform.dense.weight', 'cls.predictions.transform.dense.bias', 'cls.predictions.transform.LayerNorm.weight', 'cls.predictions.transform.LayerNorm.bias', 'cls.predictions.decoder.weight', 'cls.seq_relationship.weight', 'cls.seq_relationship.bias']\n",
      "- This IS expected if you are initializing BertForSequenceClassification from the checkpoint of a model trained on another task or with another architecture (e.g. initializing a BertForSequenceClassification model from a BertForPretraining model).\n",
      "- This IS NOT expected if you are initializing BertForSequenceClassification from the checkpoint of a model that you expect to be exactly identical (initializing a BertForSequenceClassification model from a BertForSequenceClassification model).\n",
      "Some weights of BertForSequenceClassification were not initialized from the model checkpoint at neuralmind/bert-base-portuguese-cased and are newly initialized: ['classifier.weight', 'classifier.bias']\n",
      "You should probably TRAIN this model on a down-stream task to be able to use it for predictions and inference.\n"
     ]
    }
   ],
   "source": [
    "bert_model = BertForSequenceClassification.from_pretrained(MODEL, num_labels=3).cuda(gpu)"
   ]
  },
  {
   "cell_type": "code",
   "execution_count": 10,
   "metadata": {},
   "outputs": [],
   "source": [
    "model = BertForClassification(bert_model, metrics).cuda(gpu)"
   ]
  },
  {
   "cell_type": "code",
   "execution_count": 11,
   "metadata": {},
   "outputs": [],
   "source": [
    "train_dl = DataLoader(train_ds, batch_size=64, shuffle=True)\n",
    "test_dl = DataLoader(test_ds, batch_size=64, shuffle=True)"
   ]
  },
  {
   "cell_type": "code",
   "execution_count": 12,
   "metadata": {},
   "outputs": [],
   "source": [
    "optimizer = AdamW(model.parameters(), lr=1e-5) \n",
    "criterion = nn.CrossEntropyLoss()"
   ]
  },
  {
   "cell_type": "code",
   "execution_count": 13,
   "metadata": {
    "tags": []
   },
   "outputs": [
    {
     "output_type": "stream",
     "name": "stderr",
     "text": [
      "- Remaining batches:   0%|          | 0/154 [00:00<?, ?it/s]Epoch: 1\n",
      "- Remaining batches: 100%|██████████| 154/154 [07:27<00:00,  2.91s/it]\n",
      "- Remaining batches:   0%|          | 0/154 [00:00<?, ?it/s]\ttrain_loss: 1.032899927783322 // test_loss: 0.8000206030332125// metrics: {'accuracy': 0.6311941510966693, 'precision': 0.6879866370804103, 'recall': 0.5769553547790643, 'f1': 0.5122388615526184}\n",
      "Epoch: 2\n",
      "- Remaining batches: 100%|██████████| 154/154 [07:28<00:00,  2.91s/it]\n",
      "- Remaining batches:   0%|          | 0/154 [00:00<?, ?it/s]\ttrain_loss: 0.709916167444997 // test_loss: 0.6831468565341754// metrics: {'accuracy': 0.7047116165718927, 'precision': 0.6837611021892678, 'recall': 0.6876701179131954, 'f1': 0.6847516490355714}\n",
      "Epoch: 3\n",
      "- Remaining batches: 100%|██████████| 154/154 [07:27<00:00,  2.91s/it]\n",
      "\ttrain_loss: 0.6053705652812859 // test_loss: 0.6831144690513611// metrics: {'accuracy': 0.7087733549959383, 'precision': 0.6857082524137278, 'recall': 0.6848760550328631, 'f1': 0.683967037378174}\n"
     ]
    }
   ],
   "source": [
    "train, test = model.fit(3, train_dl, test_dl, criterion, optimizer, cuda=True, device=gpu)"
   ]
  },
  {
   "cell_type": "code",
   "execution_count": 14,
   "metadata": {},
   "outputs": [],
   "source": [
    "# torch.save(model.bert.state_dict(), \"data/checkpoints/bert_tweetsent_br.ckpt\")"
   ]
  },
  {
   "cell_type": "code",
   "execution_count": null,
   "metadata": {},
   "outputs": [],
   "source": []
  }
 ]
}