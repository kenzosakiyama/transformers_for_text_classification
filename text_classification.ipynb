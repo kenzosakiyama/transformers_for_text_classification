{
 "metadata": {
  "language_info": {
   "codemirror_mode": {
    "name": "ipython",
    "version": 3
   },
   "file_extension": ".py",
   "mimetype": "text/x-python",
   "name": "python",
   "nbconvert_exporter": "python",
   "pygments_lexer": "ipython3",
   "version": "3.6.9-final"
  },
  "orig_nbformat": 2,
  "kernelspec": {
   "name": "Python 3.6.9 64-bit ('bert': virtualenv)",
   "display_name": "Python 3.6.9 64-bit ('bert': virtualenv)",
   "metadata": {
    "interpreter": {
     "hash": "eff88277fb73975c12d1396ee5027a873de6a4cc7778f3072fe3a9960a29a15a"
    }
   }
  }
 },
 "nbformat": 4,
 "nbformat_minor": 2,
 "cells": [
  {
   "cell_type": "code",
   "execution_count": 1,
   "metadata": {},
   "outputs": [],
   "source": [
    "import numpy as np\n",
    "import pandas as pd\n",
    "import torch\n",
    "import torch.nn as nn\n",
    "from tqdm.notebook import tqdm\n",
    "from torch.utils.data import Dataset, DataLoader\n",
    "from transformers import BertTokenizerFast, BertForSequenceClassification\n",
    "from transformers import AdamW\n",
    "from typing import Iterable, Dict, Callable"
   ]
  },
  {
   "cell_type": "code",
   "execution_count": 2,
   "metadata": {},
   "outputs": [],
   "source": [
    "MODEL = \"neuralmind/bert-base-portuguese-cased\""
   ]
  },
  {
   "source": [
    "# Bert Dataset"
   ],
   "cell_type": "markdown",
   "metadata": {}
  },
  {
   "cell_type": "code",
   "execution_count": 3,
   "metadata": {},
   "outputs": [],
   "source": [
    "class BertDataset(Dataset):\n",
    "\n",
    "    def __init__(self, texts: Iterable[str],\n",
    "                        labels: Iterable[int],\n",
    "                        tokenizer: BertTokenizerFast,\n",
    "                        max_seq_len: int):\n",
    "        \n",
    "        self.texts = texts\n",
    "        self.labels = labels\n",
    "        self.tokenizer = tokenizer\n",
    "        self.max_seq_len = max_seq_len\n",
    "\n",
    "    @classmethod\n",
    "    def from_df(cls, df: pd.DataFrame, tokenizer: BertTokenizerFast, max_seq_len: int = 512, text_column: str = \"text\", target_column: str = \"label\"):\n",
    "\n",
    "        texts = df[text_column].values\n",
    "        labels = df[target_column].values\n",
    "\n",
    "        return cls(texts, labels, tokenizer, max_seq_len)\n",
    "\n",
    "    def __len__(self):\n",
    "        \n",
    "        return len(self.labels) \n",
    "\n",
    "    def __getitem__(self, i):\n",
    "\n",
    "        # Tokenization on\n",
    "\n",
    "        tokens = self.tokenizer.encode_plus(\n",
    "            self.texts[i],\n",
    "            max_length = self.max_seq_len,\n",
    "            pad_to_max_length=True,\n",
    "            truncation=True,\n",
    "            return_token_type_ids=False,\n",
    "            return_tensors=\"pt\"\n",
    "        )\n",
    "\n",
    "        label = self.labels[i]\n",
    "\n",
    "        return tokens[\"input_ids\"].squeeze(), tokens[\"attention_mask\"].squeeze(), torch.tensor(label, dtype=torch.long)"
   ]
  },
  {
   "cell_type": "code",
   "execution_count": 4,
   "metadata": {},
   "outputs": [],
   "source": [
    "class BertDataset2(Dataset):\n",
    "\n",
    "    def __init__(self, texts: Iterable[str],\n",
    "                        labels: Iterable[int],\n",
    "                        tokenizer: BertTokenizerFast,\n",
    "                        max_seq_len: int):\n",
    "        \n",
    "        self.texts = texts\n",
    "        self.labels = labels\n",
    "        self.tokenizer = tokenizer\n",
    "        self.max_seq_len = max_seq_len\n",
    "\n",
    "    @classmethod\n",
    "    def from_df(cls, df: pd.DataFrame, tokenizer: BertTokenizerFast, max_seq_len: int = 512, text_column: str = \"text\", target_column: str = \"label\"):\n",
    "\n",
    "        texts = df[text_column].values\n",
    "        labels = df[target_column].values\n",
    "\n",
    "        return cls(texts, labels, tokenizer, max_seq_len)\n",
    "\n",
    "    def __len__(self):\n",
    "        \n",
    "        return len(self.labels) \n",
    "\n",
    "    def __getitem__(self, i):\n",
    "\n",
    "        # Tokenization on\n",
    "\n",
    "        tokens = self.tokenizer.encode_plus(\n",
    "        self.texts[i],\n",
    "        max_length = self.max_seq_len,\n",
    "        pad_to_max_length=True,\n",
    "        truncation=True,\n",
    "        return_token_type_ids=False,\n",
    "        return_tensors=\"pt\"\n",
    "        )\n",
    "\n",
    "        label = self.labels[i]\n",
    "\n",
    "        return tokens[\"input_ids\"].squeeze(), tokens[\"attention_mask\"].squeeze(), torch.tensor(label, dtype=torch.long)"
   ]
  },
  {
   "cell_type": "code",
   "execution_count": 5,
   "metadata": {},
   "outputs": [],
   "source": [
    "class FastBertDataset(Dataset):\n",
    "\n",
    "  def __init__(self, texts: Iterable[str],\n",
    "                     labels: Iterable[int],\n",
    "                     tokenizer: BertTokenizerFast,\n",
    "                     max_seq_len: int):\n",
    "    \n",
    "    self.texts = texts\n",
    "    self.labels = labels\n",
    "    self.tokenizer = tokenizer\n",
    "    self.max_seq_len = max_seq_len\n",
    "\n",
    "    examples = tokenizer.batch_encode_plus(\n",
    "        # Gerar um lista do texto de Treino\n",
    "        self.texts.tolist(),\n",
    "        # Comprimento da sequência\n",
    "        max_length = max_seq_len,\n",
    "        # Controla o preenchimento, como sabemos o comprimento médio = True\n",
    "        pad_to_max_length=True,\n",
    "        # Truncar para um comprimento máximo especificado no argumento max_length\n",
    "        truncation=True,\n",
    "        # Não é necessário retornar tipo do ID dos Tokens\n",
    "        # Link: https://huggingface.co/transformers/glossary.html#token-type-ids\n",
    "        return_token_type_ids=False,\n",
    "        return_tensors=\"pt\"\n",
    "    )\n",
    "\n",
    "    self.input_ids = examples[\"input_ids\"]\n",
    "    self.attention_masks = examples[\"attention_mask\"]\n",
    "\n",
    "  @classmethod\n",
    "  def from_df(cls, df: pd.DataFrame, tokenizer: BertTokenizerFast, max_seq_len: int = 512, text_column: str = \"text\", target_column: str = \"label\"):\n",
    "\n",
    "    texts = df[text_column].values\n",
    "    labels = df[target_column].values\n",
    "\n",
    "    return cls(texts, labels, tokenizer, max_seq_len)\n",
    "\n",
    "  def __len__(self):\n",
    "    \n",
    "    return len(self.labels) \n",
    "\n",
    "  def __getitem__(self, i):\n",
    "\n",
    "    ids = self.input_ids[i]\n",
    "    masks = self.attention_masks[i]\n",
    "    label = torch.tensor(self.labels[i], dtype=torch.long)\n",
    "    \n",
    "    return ids, masks, label\n"
   ]
  },
  {
   "source": [
    "# Bert Model"
   ],
   "cell_type": "markdown",
   "metadata": {}
  },
  {
   "cell_type": "code",
   "execution_count": 6,
   "metadata": {},
   "outputs": [],
   "source": [
    "from torch.optim.lr_scheduler import OneCycleLR\n",
    "\n",
    "class BertForClassification(nn.Module):\n",
    "\n",
    "    def __init__(self, bert_model: BertForSequenceClassification, \n",
    "                        classes: int,\n",
    "                        metrics: Dict[str, Callable],\n",
    "                        freeze_layers: bool = False):\n",
    "\n",
    "        super(BertForClassification, self).__init__()\n",
    "\n",
    "        self.bert = bert_model\n",
    "        self.classes = classes\n",
    "        self.metrics = metrics\n",
    "        # TODO: remover atributo classes\n",
    "    \n",
    "    def _freeze_layers() -> None:\n",
    "\n",
    "        for param in self.bert.parameters():\n",
    "            param.requires_grad = False\n",
    "\n",
    "\n",
    "    def forward(self, input_ids, att_masks):\n",
    "        # Use only the logits\n",
    "        return self.bert(input_ids, att_masks)[0]\n",
    "\n",
    "\n",
    "    def evaluate(self, eval_dl: DataLoader, \n",
    "                        criterion: torch.nn,\n",
    "                        cuda: bool = False,\n",
    "                        device: torch.device = torch.device(\"cpu:0\")) -> None:\n",
    "        # evaluate\n",
    "        self.eval()\n",
    "\n",
    "        with torch.no_grad():\n",
    "\n",
    "            preds = []\n",
    "            real = []\n",
    "            batch_losses = []\n",
    "\n",
    "            for input_batch in eval_dl:\n",
    "\n",
    "                if cuda:\n",
    "                    input_batch = [x.cuda(device) for x in input_batch]\n",
    "\n",
    "                input_ids, att_masks, labels = input_batch\n",
    "\n",
    "                outputs = self(input_ids, att_masks) \n",
    "                loss = criterion(outputs.squeeze(), labels)\n",
    "\n",
    "                outputs = F.softmax(outputs, dim=1)\n",
    "                outputs = outputs.argmax(axis=1)\n",
    "                \n",
    "                preds.extend(outputs.tolist())\n",
    "                real.extend(labels.tolist())\n",
    "                batch_losses.append(loss.item())\n",
    "\n",
    "            results = {}\n",
    "            for metric_name, metric in self.metrics.items():\n",
    "                results[metric_name] = metric(real, preds)\n",
    "\n",
    "            mean_loss = np.mean(batch_losses)\n",
    "\n",
    "            print(f\"\\ttrain_loss: {self.last_train_loss} // test_loss: {mean_loss}// metrics: {str(results)}\")\n",
    "\n",
    "        return preds, mean_loss\n",
    "\n",
    "    def fit(self, epochs: int, \n",
    "                    train_dl: DataLoader, \n",
    "                    test_dl: DataLoader,\n",
    "                    criterion: torch.nn,\n",
    "                    optimizer: torch.optim,\n",
    "                    cuda: bool = False, \n",
    "                    device: torch.device = torch.device(\"cpu:0\")):\n",
    "\n",
    "        train_losses = []\n",
    "        eval_losses = []\n",
    "\n",
    "        batches = len(train_dl)\n",
    "\n",
    "        scheduler = OneCycleLR(optimizer, max_lr=1e-5, steps_per_epoch=batches, epochs=epochs)\n",
    "\n",
    "        for epoch in range(epochs):\n",
    "            print(f\"Epoch: {epoch+1}\")\n",
    "            # train\n",
    "            self.train()\n",
    "            batch_losses = []\n",
    "\n",
    "            for batch_input in tqdm(train_dl, total=batches, desc=\"- Remaining batches\"):\n",
    "\n",
    "                if cuda:\n",
    "                    batch_input = [x.cuda(device) for x in batch_input]\n",
    "\n",
    "                input_ids, att_masks, labels = batch_input\n",
    "\n",
    "                # zero the parameter gradients\n",
    "                optimizer.zero_grad()\n",
    "\n",
    "                # forward + backward + optimize\n",
    "                outputs = self(input_ids, att_masks)\n",
    "                loss = criterion(outputs.squeeze(), labels)\n",
    "                loss.backward()\n",
    "                \n",
    "                optimizer.step()\n",
    "                scheduler.step()\n",
    "\n",
    "                batch_losses.append(loss.item())\n",
    "        \n",
    "            train_loss = np.mean(batch_losses)\n",
    "            self.last_train_loss = train_loss\n",
    "\n",
    "            # evaluate\n",
    "            _, eval_loss = self.evaluate(test_dl, criterion, cuda, device)\n",
    "\n",
    "            train_losses.append(train_loss)\n",
    "            eval_losses.append(eval_loss)\n",
    "\n",
    "        return train_losses, eval_losses"
   ]
  },
  {
   "source": [
    "# Loading tweet dataset"
   ],
   "cell_type": "markdown",
   "metadata": {}
  },
  {
   "cell_type": "code",
   "execution_count": 7,
   "metadata": {},
   "outputs": [],
   "source": [
    "train_df = pd.read_csv(\"/home/kenzo/datasets/cleaned_tweetsentbr/train.tsv\", sep=\"\\t\", names=[\"id\", \"label\", \"alfa\", \"text\"], index_col=0)\n",
    "test_df = pd.read_csv(\"/home/kenzo/datasets/cleaned_tweetsentbr/test.tsv\", sep=\"\\t\", names=[\"id\", \"label\", \"alfa\", \"text\"], index_col=0)"
   ]
  },
  {
   "source": [
    "# TODO: Adicionar uma exploração dos dados"
   ],
   "cell_type": "code",
   "metadata": {},
   "execution_count": 8,
   "outputs": []
  },
  {
   "cell_type": "code",
   "execution_count": 9,
   "metadata": {
    "tags": []
   },
   "outputs": [],
   "source": [
    "tokenizer = BertTokenizerFast.from_pretrained(MODEL)"
   ]
  },
  {
   "cell_type": "code",
   "execution_count": 10,
   "metadata": {},
   "outputs": [],
   "source": [
    "# train_ds = BertDataset.from_df(train_df, tokenizer, max_seq_len=128)\n",
    "# test_ds = BertDataset.from_df(test_df, tokenizer, max_seq_len=128)\n",
    "\n",
    "train_ds = FastBertDataset.from_df(train_df, tokenizer, max_seq_len=128)\n",
    "test_ds = FastBertDataset.from_df(test_df, tokenizer, max_seq_len=128)"
   ]
  },
  {
   "source": [
    "# Preparing model"
   ],
   "cell_type": "markdown",
   "metadata": {}
  },
  {
   "cell_type": "code",
   "execution_count": 11,
   "metadata": {},
   "outputs": [],
   "source": [
    "from sklearn.metrics import accuracy_score, precision_score, recall_score, f1_score\n",
    "from functools import partial\n",
    "\n",
    "metrics = {\n",
    "    \"accuracy\": accuracy_score,\n",
    "    \"precision\": partial(precision_score, average=\"macro\"),\n",
    "    \"recall\": partial(recall_score, average=\"macro\"),\n",
    "    \"f1\": partial(f1_score, average=\"macro\"),\n",
    "}"
   ]
  },
  {
   "cell_type": "code",
   "execution_count": 12,
   "metadata": {},
   "outputs": [],
   "source": [
    "gpu = torch.device(\"cuda:2\")"
   ]
  },
  {
   "cell_type": "code",
   "execution_count": 13,
   "metadata": {
    "tags": []
   },
   "outputs": [
    {
     "output_type": "stream",
     "name": "stderr",
     "text": "Some weights of the model checkpoint at neuralmind/bert-base-portuguese-cased were not used when initializing BertForSequenceClassification: ['cls.predictions.bias', 'cls.predictions.transform.dense.weight', 'cls.predictions.transform.dense.bias', 'cls.predictions.transform.LayerNorm.weight', 'cls.predictions.transform.LayerNorm.bias', 'cls.predictions.decoder.weight', 'cls.seq_relationship.weight', 'cls.seq_relationship.bias']\n- This IS expected if you are initializing BertForSequenceClassification from the checkpoint of a model trained on another task or with another architecture (e.g. initializing a BertForSequenceClassification model from a BertForPretraining model).\n- This IS NOT expected if you are initializing BertForSequenceClassification from the checkpoint of a model that you expect to be exactly identical (initializing a BertForSequenceClassification model from a BertForSequenceClassification model).\nSome weights of BertForSequenceClassification were not initialized from the model checkpoint at neuralmind/bert-base-portuguese-cased and are newly initialized: ['classifier.weight', 'classifier.bias']\nYou should probably TRAIN this model on a down-stream task to be able to use it for predictions and inference.\n"
    }
   ],
   "source": [
    "bert_model = BertForSequenceClassification.from_pretrained(MODEL, num_labels=3).cuda(gpu)"
   ]
  },
  {
   "cell_type": "code",
   "execution_count": 14,
   "metadata": {},
   "outputs": [],
   "source": [
    "model = BertForClassification(bert_model, 3, metrics)"
   ]
  },
  {
   "cell_type": "code",
   "execution_count": 15,
   "metadata": {},
   "outputs": [],
   "source": [
    "train_dl = DataLoader(train_ds, batch_size=32, shuffle=True)\n",
    "test_dl = DataLoader(test_ds, batch_size=32, shuffle=True)"
   ]
  },
  {
   "cell_type": "code",
   "execution_count": 16,
   "metadata": {},
   "outputs": [],
   "source": [
    "optimizer = AdamW(model.parameters(), lr=1e-5) \n",
    "criterion = nn.CrossEntropyLoss()"
   ]
  },
  {
   "cell_type": "code",
   "execution_count": 17,
   "metadata": {
    "tags": []
   },
   "outputs": [
    {
     "output_type": "stream",
     "name": "stdout",
     "text": "Epoch: 1\n"
    },
    {
     "output_type": "display_data",
     "data": {
      "text/plain": "HBox(children=(FloatProgress(value=0.0, description='- Remaining batches', max=308.0, style=ProgressStyle(desc…",
      "application/vnd.jupyter.widget-view+json": {
       "version_major": 2,
       "version_minor": 0,
       "model_id": "11d474ad9f964dbbaf8e3f38434270a5"
      }
     },
     "metadata": {}
    },
    {
     "output_type": "stream",
     "name": "stdout",
     "text": "\n\ttrain_loss: 0.9994746659483228 // test_loss: 0.7552033024174827// metrics: {'accuracy': 0.665718927701056, 'precision': 0.6458132502397061, 'recall': 0.6266536360723477, 'f1': 0.6156258262765357}\nEpoch: 2\n"
    },
    {
     "output_type": "display_data",
     "data": {
      "text/plain": "HBox(children=(FloatProgress(value=0.0, description='- Remaining batches', max=308.0, style=ProgressStyle(desc…",
      "application/vnd.jupyter.widget-view+json": {
       "version_major": 2,
       "version_minor": 0,
       "model_id": "25548e7dee87447494d0b8860c282398"
      }
     },
     "metadata": {}
    },
    {
     "output_type": "stream",
     "name": "stdout",
     "text": "\n\ttrain_loss: 0.6879196470821058 // test_loss: 0.6672780587301625// metrics: {'accuracy': 0.7160844841592201, 'precision': 0.7006827924578855, 'recall': 0.6985323162000691, 'f1': 0.6982384555485498}\nEpoch: 3\n"
    },
    {
     "output_type": "display_data",
     "data": {
      "text/plain": "HBox(children=(FloatProgress(value=0.0, description='- Remaining batches', max=308.0, style=ProgressStyle(desc…",
      "application/vnd.jupyter.widget-view+json": {
       "version_major": 2,
       "version_minor": 0,
       "model_id": "d6e3a976f3de4b3ab90b4ad00d9d7810"
      }
     },
     "metadata": {}
    },
    {
     "output_type": "stream",
     "name": "stdout",
     "text": "\n\ttrain_loss: 0.5527749746650844 // test_loss: 0.6753748008957157// metrics: {'accuracy': 0.7197400487408611, 'precision': 0.6990380439264302, 'recall': 0.6981414352668086, 'f1': 0.6985703565787017}\nEpoch: 4\n"
    },
    {
     "output_type": "display_data",
     "data": {
      "text/plain": "HBox(children=(FloatProgress(value=0.0, description='- Remaining batches', max=308.0, style=ProgressStyle(desc…",
      "application/vnd.jupyter.widget-view+json": {
       "version_major": 2,
       "version_minor": 0,
       "model_id": "99297ccaa7a747c2b3c181b9076556c1"
      }
     },
     "metadata": {}
    },
    {
     "output_type": "stream",
     "name": "stdout",
     "text": "\n\ttrain_loss: 0.4438867103066537 // test_loss: 0.7057026469862306// metrics: {'accuracy': 0.7242079610073111, 'precision': 0.7033789063206987, 'recall': 0.7056915314065079, 'f1': 0.7040117473218747}\nEpoch: 5\n"
    },
    {
     "output_type": "display_data",
     "data": {
      "text/plain": "HBox(children=(FloatProgress(value=0.0, description='- Remaining batches', max=308.0, style=ProgressStyle(desc…",
      "application/vnd.jupyter.widget-view+json": {
       "version_major": 2,
       "version_minor": 0,
       "model_id": "3a69d8978ecc45268cc1550504971221"
      }
     },
     "metadata": {}
    },
    {
     "output_type": "stream",
     "name": "stdout",
     "text": "\n\ttrain_loss: 0.38610948762529856 // test_loss: 0.7225480977590982// metrics: {'accuracy': 0.7258326563769293, 'precision': 0.7059645295098281, 'recall': 0.7030160678353831, 'f1': 0.704284732224609}\n"
    }
   ],
   "source": [
    "train, test = model.fit(5, train_dl, test_dl, criterion, optimizer, cuda=True, device=gpu)"
   ]
  },
  {
   "cell_type": "code",
   "execution_count": 21,
   "metadata": {},
   "outputs": [],
   "source": [
    "torch.save(model.bert.state_dict(), \"data/checkpoints/bert_tweetsent_br.ckpt\")"
   ]
  },
  {
   "cell_type": "code",
   "execution_count": null,
   "metadata": {},
   "outputs": [],
   "source": []
  }
 ]
}